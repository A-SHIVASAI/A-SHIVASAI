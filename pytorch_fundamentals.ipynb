{
  "nbformat": 4,
  "nbformat_minor": 0,
  "metadata": {
    "colab": {
      "provenance": [],
      "include_colab_link": true
    },
    "kernelspec": {
      "name": "python3",
      "display_name": "Python 3"
    },
    "language_info": {
      "name": "python"
    }
  },
  "cells": [
    {
      "cell_type": "markdown",
      "metadata": {
        "id": "view-in-github",
        "colab_type": "text"
      },
      "source": [
        "<a href=\"https://colab.research.google.com/github/A-SHIVASAI/A-SHIVASAI/blob/A-SHIVASAI-Deep_learning/pytorch_fundamentals.ipynb\" target=\"_parent\"><img src=\"https://colab.research.google.com/assets/colab-badge.svg\" alt=\"Open In Colab\"/></a>"
      ]
    },
    {
      "cell_type": "markdown",
      "metadata": {
        "id": "xIhd9cU3bBdO"
      },
      "source": [
        "![picture](https://upload.wikimedia.org/wikipedia/commons/9/96/Pytorch_logo.png)"
      ]
    },
    {
      "cell_type": "markdown",
      "metadata": {
        "id": "pSuFVuyj1Yve"
      },
      "source": [
        "## Python lists or tuples of numbers are collections of Python objects that are individually allocated in memory."
      ]
    },
    {
      "cell_type": "code",
      "metadata": {
        "colab": {
          "base_uri": "https://localhost:8080/"
        },
        "id": "X-eq-Mpaz0rt",
        "outputId": "69e32463-3c26-4bde-a942-f9b35e66cdf0"
      },
      "source": [
        "# first let's define a list and see the size it occupies\n",
        "a = [1.0, 2.0, 3.0]\n",
        "print(type(a))\n",
        "print(a.__sizeof__())"
      ],
      "execution_count": null,
      "outputs": [
        {
          "output_type": "stream",
          "name": "stdout",
          "text": [
            "<class 'list'>\n",
            "64\n"
          ]
        }
      ]
    },
    {
      "cell_type": "markdown",
      "metadata": {
        "id": "Lx9l8OtaJU71"
      },
      "source": [
        "**Task 1**"
      ]
    },
    {
      "cell_type": "code",
      "metadata": {
        "id": "sRCctAw3JIaO",
        "colab": {
          "base_uri": "https://localhost:8080/"
        },
        "outputId": "a5eefba4-f537-4b0f-8bb6-c990a1b88a52"
      },
      "source": [
        "# define a list of integers and see the size it occupies\n",
        "# print exactly like we did in previous cell\n",
        "## code below\n",
        "b= [3.5, 2.8, 7.8]\n",
        "print(type(b))\n",
        "print(b.__sizeof__())"
      ],
      "execution_count": 1,
      "outputs": [
        {
          "output_type": "stream",
          "name": "stdout",
          "text": [
            "<class 'list'>\n",
            "72\n"
          ]
        }
      ]
    },
    {
      "cell_type": "markdown",
      "metadata": {
        "id": "zGjH5xX_3KYa"
      },
      "source": [
        "## PyTorch tensors or NumPy arrays, on the other hand, are views over typically) contiguous memory blocks containing unboxed C numeric types rather than Python objects. Each element is 32 bit (4-byte for 32 bit and 8 byte for 64 bit in general)  float in this case used in pytorch by default. This means storing a 1D tensor of 1000,000 float numbers will require exactly 4,000,000 contiguous bytes, plus a small overhead for the metadata (such as dimensions and numeric type)."
      ]
    },
    {
      "cell_type": "code",
      "metadata": {
        "colab": {
          "base_uri": "https://localhost:8080/"
        },
        "id": "fiOUDgYL0uxl",
        "outputId": "dc54eade-406f-4cc0-e7f3-f99fb67f124d"
      },
      "source": [
        "import numpy as np\n",
        "a = np.array([1.0, 2.0, 3.0])\n",
        "print(\"a: {}, and it's dtype: {}\".format(a, a.dtype))\n",
        "print(a.nbytes)"
      ],
      "execution_count": 2,
      "outputs": [
        {
          "output_type": "stream",
          "name": "stdout",
          "text": [
            "a: [1. 2. 3.], and it's dtype: float64\n",
            "24\n"
          ]
        }
      ]
    },
    {
      "cell_type": "code",
      "metadata": {
        "colab": {
          "base_uri": "https://localhost:8080/"
        },
        "id": "fAWe0k8U1_Sm",
        "outputId": "a1dcc4f1-5b51-4434-c170-49e620928619"
      },
      "source": [
        "import torch as t\n",
        "a = t.ones(3)\n",
        "print(\"a: {}, and it's dtpe: {}\".format(a, a.dtype))\n",
        "print(\"size: \", a.element_size()*a.nelement())"
      ],
      "execution_count": 3,
      "outputs": [
        {
          "output_type": "stream",
          "name": "stdout",
          "text": [
            "a: tensor([1., 1., 1.]), and it's dtpe: torch.float32\n",
            "size:  12\n"
          ]
        }
      ]
    },
    {
      "cell_type": "code",
      "metadata": {
        "colab": {
          "base_uri": "https://localhost:8080/"
        },
        "id": "U3y7jXac8-PR",
        "outputId": "3b9a1291-9622-4c85-f80d-9b8150cf6efa"
      },
      "source": [
        "# we can create a tensor of zeros and replace it's values\n",
        "my_tensor = t.zeros((3, 2))\n",
        "my_tensor"
      ],
      "execution_count": 4,
      "outputs": [
        {
          "output_type": "execute_result",
          "data": {
            "text/plain": [
              "tensor([[0., 0.],\n",
              "        [0., 0.],\n",
              "        [0., 0.]])"
            ]
          },
          "metadata": {},
          "execution_count": 4
        }
      ]
    },
    {
      "cell_type": "code",
      "metadata": {
        "id": "lw-bBT8m4LaC"
      },
      "source": [
        "# replace it's zeros with 1., 2., 3., 4., 5., 6.\n",
        "my_tensor[0, 0] = 1.\n",
        "my_tensor[0, 1] = 2.\n",
        "my_tensor[1, 0] = 3.\n",
        "my_tensor[1, 1] = 4.\n",
        "my_tensor[2, 0] = 5.\n",
        "my_tensor[2, 1] = 6."
      ],
      "execution_count": 5,
      "outputs": []
    },
    {
      "cell_type": "code",
      "metadata": {
        "colab": {
          "base_uri": "https://localhost:8080/"
        },
        "id": "8mxPPS_W9fMd",
        "outputId": "b7a4ab93-935c-4edf-a669-da49ed938132"
      },
      "source": [
        "# print my_tensor\n",
        "my_tensor"
      ],
      "execution_count": 6,
      "outputs": [
        {
          "output_type": "execute_result",
          "data": {
            "text/plain": [
              "tensor([[1., 2.],\n",
              "        [3., 4.],\n",
              "        [5., 6.]])"
            ]
          },
          "metadata": {},
          "execution_count": 6
        }
      ]
    },
    {
      "cell_type": "markdown",
      "metadata": {
        "id": "emf5no8GJonP"
      },
      "source": [
        "**Task 2**"
      ]
    },
    {
      "cell_type": "code",
      "metadata": {
        "id": "Lc-LW66WJnoY",
        "colab": {
          "base_uri": "https://localhost:8080/"
        },
        "outputId": "5f0bdf6c-004a-4afe-9c99-807e3eb16059"
      },
      "source": [
        "# create a tensor of ones with size (5,5) and replace each element's values with any value you like\n",
        "# then print the tensor\n",
        "## code below\n",
        "my_tensor2= t.ones((5,5))\n",
        "my_tensor2"
      ],
      "execution_count": 7,
      "outputs": [
        {
          "output_type": "execute_result",
          "data": {
            "text/plain": [
              "tensor([[1., 1., 1., 1., 1.],\n",
              "        [1., 1., 1., 1., 1.],\n",
              "        [1., 1., 1., 1., 1.],\n",
              "        [1., 1., 1., 1., 1.],\n",
              "        [1., 1., 1., 1., 1.]])"
            ]
          },
          "metadata": {},
          "execution_count": 7
        }
      ]
    },
    {
      "cell_type": "code",
      "metadata": {
        "colab": {
          "base_uri": "https://localhost:8080/"
        },
        "id": "NCPvfU8M9gtm",
        "outputId": "19508720-a343-47f9-f1cf-0b758482830b"
      },
      "source": [
        "# we can pass lists of list to create a tensor\n",
        "two_D_tensor = t.tensor([[4.0, 1.0], [5.0, 3.0], [2.0, 1.0]])\n",
        "two_D_tensor"
      ],
      "execution_count": 8,
      "outputs": [
        {
          "output_type": "execute_result",
          "data": {
            "text/plain": [
              "tensor([[4., 1.],\n",
              "        [5., 3.],\n",
              "        [2., 1.]])"
            ]
          },
          "metadata": {},
          "execution_count": 8
        }
      ]
    },
    {
      "cell_type": "markdown",
      "metadata": {
        "id": "C82mOnQpKR_x"
      },
      "source": [
        "**Task 3**"
      ]
    },
    {
      "cell_type": "code",
      "metadata": {
        "id": "DMmAJjuyKYCL",
        "colab": {
          "base_uri": "https://localhost:8080/"
        },
        "outputId": "0799c323-fce8-4706-e9e8-71c270e71605"
      },
      "source": [
        "# create a list of lists and pass into t.tensor and print your tensor\n",
        "## code below\n",
        "two_D_tensor2 = t.tensor([[5.0, 6.0], [4.0, 7.0], [1.0, 3.0]])\n",
        "two_D_tensor2"
      ],
      "execution_count": 10,
      "outputs": [
        {
          "output_type": "execute_result",
          "data": {
            "text/plain": [
              "tensor([[5., 6.],\n",
              "        [4., 7.],\n",
              "        [1., 3.]])"
            ]
          },
          "metadata": {},
          "execution_count": 10
        }
      ]
    },
    {
      "cell_type": "code",
      "metadata": {
        "colab": {
          "base_uri": "https://localhost:8080/"
        },
        "id": "vZWvavNy_jt6",
        "outputId": "4f02d6d5-621a-4894-e50a-6286536ef09e"
      },
      "source": [
        "# creating 3-d tensor\n",
        "random_tensor = t.randn((3,4,3)) # here 3,4,3 ---> refers channels, rows and  columns\n",
        "random_tensor"
      ],
      "execution_count": 13,
      "outputs": [
        {
          "output_type": "execute_result",
          "data": {
            "text/plain": [
              "tensor([[[-0.7778,  0.9299, -0.1691],\n",
              "         [-0.0705,  0.1997,  1.0388],\n",
              "         [ 0.1231,  0.8448,  1.0463],\n",
              "         [-0.1381, -0.6701, -1.4659]],\n",
              "\n",
              "        [[-0.5170,  0.0648, -0.2707],\n",
              "         [ 0.4349,  0.6208, -0.1516],\n",
              "         [-0.6418,  1.2714, -1.3335],\n",
              "         [-0.4179, -0.4850,  0.7496]],\n",
              "\n",
              "        [[-1.2134, -1.1155,  0.1450],\n",
              "         [-2.0442, -1.1166,  0.5070],\n",
              "         [-0.7863, -0.0631, -0.0749],\n",
              "         [-0.7330, -0.8681,  1.0167]]])"
            ]
          },
          "metadata": {},
          "execution_count": 13
        }
      ]
    },
    {
      "cell_type": "code",
      "metadata": {
        "id": "y35wGm_hANv_",
        "colab": {
          "base_uri": "https://localhost:8080/"
        },
        "outputId": "f81b386d-94ba-477c-a6cc-3f4263d3915f"
      },
      "source": [
        "# indexing tensors\n",
        "print(\"Printing 4th row last element of first (4,3) matrix: \", random_tensor[0][3][2])\n",
        "print(\"Printing 1st row first element of second (4,3) matrix: \", random_tensor[1][0][0])\n",
        "print(\"Printing 2nd row 2nd element of second (4,3) matrix: \", random_tensor[1][1][1])\n",
        "print(\"Printing 4th row first element of last (4,3) matrix: \", random_tensor[2][3][0])\n"
      ],
      "execution_count": 14,
      "outputs": [
        {
          "output_type": "stream",
          "name": "stdout",
          "text": [
            "Printing 4th row last element of first (4,3) matrix:  tensor(-1.4659)\n",
            "Printing 1st row first element of second (4,3) matrix:  tensor(-0.5170)\n",
            "Printing 2nd row 2nd element of second (4,3) matrix:  tensor(0.6208)\n",
            "Printing 4th row first element of last (4,3) matrix:  tensor(-0.7330)\n"
          ]
        }
      ]
    },
    {
      "cell_type": "markdown",
      "metadata": {
        "id": "ViNAhwBJLc1P"
      },
      "source": [
        "**Task 4**"
      ]
    },
    {
      "cell_type": "code",
      "metadata": {
        "id": "u8Ah7B0o88WO"
      },
      "source": [
        "# Print 3rd row last element of first (4,3) matrix\n",
        "# Print 2nd row first element of second (4,3) matrix\n",
        "# Print 1st row 2nd element of first (4,3) matrix\n",
        "# Print 1st row first element of last (4,3) matrix"
      ],
      "execution_count": null,
      "outputs": []
    },
    {
      "cell_type": "code",
      "source": [
        "print(\"Print 3rd row last element of first (4,3) matrix: \", random_tensor[0][2][2])\n",
        "print(\"Print 2nd row first element of second (4,3) matrix: \", random_tensor[1][1][0])\n",
        "print(\" Print 1st row 2nd element of first (4,3) matrix: \", random_tensor[0][0][1])\n",
        "print(\"Print 1st row first element of last (4,3) matrix: \", random_tensor[2][0][0])"
      ],
      "metadata": {
        "colab": {
          "base_uri": "https://localhost:8080/"
        },
        "id": "GXKM_5owof0T",
        "outputId": "8e4c34ad-39be-4a19-8281-dd36acca4953"
      },
      "execution_count": 15,
      "outputs": [
        {
          "output_type": "stream",
          "name": "stdout",
          "text": [
            "Print 3rd row last element of first (4,3) matrix:  tensor(1.0463)\n",
            "Print 2nd row first element of second (4,3) matrix:  tensor(0.4349)\n",
            " Print 1st row 2nd element of first (4,3) matrix:  tensor(0.9299)\n",
            "Print 1st row first element of last (4,3) matrix:  tensor(-1.2134)\n"
          ]
        }
      ]
    },
    {
      "cell_type": "markdown",
      "metadata": {
        "id": "Mg1q9u7GK3b4"
      },
      "source": [
        "**Task 5**"
      ]
    },
    {
      "cell_type": "code",
      "metadata": {
        "id": "hEjgH3MwK7-T",
        "colab": {
          "base_uri": "https://localhost:8080/"
        },
        "outputId": "7eb9f406-b4e5-48c8-928b-1b013386132d"
      },
      "source": [
        "# create a 3d tensor of channels=5, rows=6, columns=3\n",
        "## print your tensor and try to access each element with indexing like we did above\n",
        "## code below\n",
        "my_3d_tensor = t.randn((5,6,3))\n",
        "my_3d_tensor"
      ],
      "execution_count": 16,
      "outputs": [
        {
          "output_type": "execute_result",
          "data": {
            "text/plain": [
              "tensor([[[-0.2304,  0.1093, -0.7692],\n",
              "         [ 0.2112,  2.1351,  0.4098],\n",
              "         [ 0.0526, -0.3009, -1.0388],\n",
              "         [-0.2587,  1.0922, -1.8071],\n",
              "         [ 1.6540, -0.6492,  0.3919],\n",
              "         [-0.1536, -1.0300, -0.4620]],\n",
              "\n",
              "        [[ 0.9418,  1.2954,  2.6528],\n",
              "         [ 0.8947,  0.3401,  1.2587],\n",
              "         [ 0.1300, -1.5800,  0.0461],\n",
              "         [ 0.6856,  1.5014, -1.1540],\n",
              "         [-0.5383, -0.0910,  0.0306],\n",
              "         [-1.7414, -0.2184, -0.4240]],\n",
              "\n",
              "        [[-1.0981, -0.1732,  1.1724],\n",
              "         [ 0.4495, -0.9714, -0.1676],\n",
              "         [-0.1550,  0.4984, -0.2937],\n",
              "         [-1.1667, -0.9507,  2.2164],\n",
              "         [-0.4626, -0.4417, -0.7422],\n",
              "         [-1.2040, -0.4752,  0.4123]],\n",
              "\n",
              "        [[-0.8407, -0.9034,  0.2357],\n",
              "         [ 0.1619, -0.4692, -1.4234],\n",
              "         [-0.9078, -0.3344, -1.3615],\n",
              "         [-0.0365,  1.7272, -0.6513],\n",
              "         [ 0.1957, -0.9921, -1.3553],\n",
              "         [ 0.7376,  0.9643, -0.4064]],\n",
              "\n",
              "        [[-0.7267, -1.1101, -0.2916],\n",
              "         [ 0.4720, -0.9713, -1.1065],\n",
              "         [-0.4717,  0.9981,  0.4596],\n",
              "         [-0.9749,  0.5480,  0.3005],\n",
              "         [-0.6669, -0.6158, -0.3713],\n",
              "         [ 0.4888, -0.8409,  2.0615]]])"
            ]
          },
          "metadata": {},
          "execution_count": 16
        }
      ]
    },
    {
      "cell_type": "code",
      "metadata": {
        "colab": {
          "base_uri": "https://localhost:8080/"
        },
        "id": "V6is1sthCeq8",
        "outputId": "10f8e0f1-47ab-4678-f2df-a68c7fd9ab22"
      },
      "source": [
        "# Create a tensor with a fixed value for every element\n",
        "fixed_tensor = t.full((3, 3), 100)\n",
        "fixed_tensor"
      ],
      "execution_count": 17,
      "outputs": [
        {
          "output_type": "execute_result",
          "data": {
            "text/plain": [
              "tensor([[100, 100, 100],\n",
              "        [100, 100, 100],\n",
              "        [100, 100, 100]])"
            ]
          },
          "metadata": {},
          "execution_count": 17
        }
      ]
    },
    {
      "cell_type": "markdown",
      "metadata": {
        "id": "TBnlGS3bMgkZ"
      },
      "source": [
        "**Task 6**"
      ]
    },
    {
      "cell_type": "code",
      "metadata": {
        "id": "CmYuwzWtMlck",
        "colab": {
          "base_uri": "https://localhost:8080/"
        },
        "outputId": "bb93b850-cd97-4a24-a9e9-dc567ea62c63"
      },
      "source": [
        "# create a tensor of shape of your choice and fill with value 50 like we did above\n",
        "# print your tensor\n",
        "fixed_tensor_2 = t.full((4,4), 75)\n",
        "fixed_tensor_2"
      ],
      "execution_count": 18,
      "outputs": [
        {
          "output_type": "execute_result",
          "data": {
            "text/plain": [
              "tensor([[75, 75, 75, 75],\n",
              "        [75, 75, 75, 75],\n",
              "        [75, 75, 75, 75],\n",
              "        [75, 75, 75, 75]])"
            ]
          },
          "metadata": {},
          "execution_count": 18
        }
      ]
    },
    {
      "cell_type": "code",
      "metadata": {
        "colab": {
          "base_uri": "https://localhost:8080/"
        },
        "id": "G5P_00ryCetH",
        "outputId": "b5ab3703-d254-45a1-fd81-4a868a41cd2c"
      },
      "source": [
        "# Concatenate two tensors with compatible shapes\n",
        "concat_tensor = t.cat((fixed_tensor, t.full((3,3), 50)))\n",
        "concat_tensor"
      ],
      "execution_count": 19,
      "outputs": [
        {
          "output_type": "execute_result",
          "data": {
            "text/plain": [
              "tensor([[100, 100, 100],\n",
              "        [100, 100, 100],\n",
              "        [100, 100, 100],\n",
              "        [ 50,  50,  50],\n",
              "        [ 50,  50,  50],\n",
              "        [ 50,  50,  50]])"
            ]
          },
          "metadata": {},
          "execution_count": 19
        }
      ]
    },
    {
      "cell_type": "markdown",
      "metadata": {
        "id": "lX9Wmh0MM4yl"
      },
      "source": [
        "**Task 7**"
      ]
    },
    {
      "cell_type": "code",
      "metadata": {
        "id": "8mtmpFgQM8TP",
        "colab": {
          "base_uri": "https://localhost:8080/"
        },
        "outputId": "d4a13508-68a4-4d31-80e9-5c6d0fc12ce9"
      },
      "source": [
        "# create two tensors of your favorite shape and concatenate them using t.cat as we did above\n",
        "# print both tensor before concatenation and also print concatenated tensor\n",
        "concat_tensor_2 = t.cat((fixed_tensor_2, t.full((4,4), 56)))\n",
        "concat_tensor_2"
      ],
      "execution_count": 20,
      "outputs": [
        {
          "output_type": "execute_result",
          "data": {
            "text/plain": [
              "tensor([[75, 75, 75, 75],\n",
              "        [75, 75, 75, 75],\n",
              "        [75, 75, 75, 75],\n",
              "        [75, 75, 75, 75],\n",
              "        [56, 56, 56, 56],\n",
              "        [56, 56, 56, 56],\n",
              "        [56, 56, 56, 56],\n",
              "        [56, 56, 56, 56]])"
            ]
          },
          "metadata": {},
          "execution_count": 20
        }
      ]
    },
    {
      "cell_type": "code",
      "metadata": {
        "colab": {
          "base_uri": "https://localhost:8080/"
        },
        "id": "ospFZfrKCevQ",
        "outputId": "e84170b3-8b5c-43c0-8e4c-824434bd8321"
      },
      "source": [
        "# Change the shape of a tensor\n",
        "print(concat_tensor)\n",
        "reshaped = concat_tensor.reshape(3, 3, 2)\n",
        "print(reshaped)"
      ],
      "execution_count": 25,
      "outputs": [
        {
          "output_type": "stream",
          "name": "stdout",
          "text": [
            "tensor([[100, 100, 100],\n",
            "        [100, 100, 100],\n",
            "        [100, 100, 100],\n",
            "        [ 50,  50,  50],\n",
            "        [ 50,  50,  50],\n",
            "        [ 50,  50,  50]])\n",
            "tensor([[[100, 100],\n",
            "         [100, 100],\n",
            "         [100, 100]],\n",
            "\n",
            "        [[100, 100],\n",
            "         [100,  50],\n",
            "         [ 50,  50]],\n",
            "\n",
            "        [[ 50,  50],\n",
            "         [ 50,  50],\n",
            "         [ 50,  50]]])\n"
          ]
        }
      ]
    },
    {
      "cell_type": "markdown",
      "metadata": {
        "id": "yUj_uqJwVxsm"
      },
      "source": [
        "**Task 8**"
      ]
    },
    {
      "cell_type": "code",
      "metadata": {
        "id": "PHqL1oKAV1zd",
        "colab": {
          "base_uri": "https://localhost:8080/"
        },
        "outputId": "3cc4e020-38b4-4b5f-f0a7-fe4b62728298"
      },
      "source": [
        "# create a tensor of shape (5,4,2) and then reshape it into some other dimension of your choice\n",
        "tensor_to_reshape = t.randn((5,4,2))\n",
        "tensor_reshaped = t.reshape(tensor_to_reshape, (10,4))\n",
        "tensor_reshaped\n"
      ],
      "execution_count": 26,
      "outputs": [
        {
          "output_type": "execute_result",
          "data": {
            "text/plain": [
              "tensor([[ 1.8738, -0.5317, -1.8175, -0.8872],\n",
              "        [ 1.0478, -1.2008,  0.1422, -1.0126],\n",
              "        [-0.2404,  0.2068,  0.0037, -0.9049],\n",
              "        [-1.7139, -1.5826,  1.5638,  1.6667],\n",
              "        [ 0.2593,  1.5020,  0.6265,  0.6767],\n",
              "        [ 0.0904,  0.5417, -0.3495,  0.2505],\n",
              "        [ 0.7648,  0.1108, -0.7218,  0.1892],\n",
              "        [-0.1274,  0.0226, -0.0586, -0.7774],\n",
              "        [-1.4850, -1.1488,  0.2413, -0.0959],\n",
              "        [-0.5346,  1.4992, -1.7216,  1.4108]])"
            ]
          },
          "metadata": {},
          "execution_count": 26
        }
      ]
    },
    {
      "cell_type": "code",
      "metadata": {
        "colab": {
          "base_uri": "https://localhost:8080/"
        },
        "id": "FVQewuYTCeyE",
        "outputId": "ecb7da3f-5bd4-495a-d170-695af2a7d70b"
      },
      "source": [
        "# creating tensor from numpy array\n",
        "x = np.array([[1, 2], [3, 4.]])\n",
        "array_to_tensor = t.from_numpy(x)\n",
        "array_to_tensor"
      ],
      "execution_count": 27,
      "outputs": [
        {
          "output_type": "execute_result",
          "data": {
            "text/plain": [
              "tensor([[1., 2.],\n",
              "        [3., 4.]], dtype=torch.float64)"
            ]
          },
          "metadata": {},
          "execution_count": 27
        }
      ]
    },
    {
      "cell_type": "code",
      "metadata": {
        "colab": {
          "base_uri": "https://localhost:8080/"
        },
        "id": "6LByHq5-JEcp",
        "outputId": "4a83c4aa-f4a9-42e3-fe82-a7c98fccebdc"
      },
      "source": [
        "# Convert a torch tensor to a numpy array\n",
        "tensor_to_array = array_to_tensor.numpy()\n",
        "tensor_to_array"
      ],
      "execution_count": 28,
      "outputs": [
        {
          "output_type": "execute_result",
          "data": {
            "text/plain": [
              "array([[1., 2.],\n",
              "       [3., 4.]])"
            ]
          },
          "metadata": {},
          "execution_count": 28
        }
      ]
    },
    {
      "cell_type": "markdown",
      "metadata": {
        "id": "pZolGJ8nWIiW"
      },
      "source": [
        "**Task 9**"
      ]
    },
    {
      "cell_type": "code",
      "metadata": {
        "id": "sKzDH-eEWI0h",
        "colab": {
          "base_uri": "https://localhost:8080/"
        },
        "outputId": "86f0b5f6-bdc1-42a8-c5ed-ee949acbce0b"
      },
      "source": [
        "# create a 2-D numpy array of your choice and then convert into tensor using from_numpy and convert tensor back to array using .numpy()\n",
        "y = np.array([[6,7], [8,9]])\n",
        "array_to_tensor_2 = t.from_numpy(y)\n",
        "print(array_to_tensor_2)"
      ],
      "execution_count": 30,
      "outputs": [
        {
          "output_type": "stream",
          "name": "stdout",
          "text": [
            "tensor([[6, 7],\n",
            "        [8, 9]])\n"
          ]
        }
      ]
    },
    {
      "cell_type": "code",
      "source": [
        "tensor_to_array_2 = array_to_tensor_2.numpy()\n",
        "print(tensor_to_array_2)"
      ],
      "metadata": {
        "colab": {
          "base_uri": "https://localhost:8080/"
        },
        "id": "s21c5O_vrdCM",
        "outputId": "88dbf6cd-70af-4bd1-e84b-65011a9824a2"
      },
      "execution_count": 31,
      "outputs": [
        {
          "output_type": "stream",
          "name": "stdout",
          "text": [
            "[[6 7]\n",
            " [8 9]]\n"
          ]
        }
      ]
    },
    {
      "cell_type": "code",
      "metadata": {
        "colab": {
          "base_uri": "https://localhost:8080/"
        },
        "id": "UO7nLHZTg59t",
        "outputId": "cb482f36-38d2-4adb-ca30-0fc0680362a9"
      },
      "source": [
        "# multiplying tensors\n",
        "a = t.tensor([[1,2,3], [4,5,6]]) # observe the shape (2,3)\n",
        "b = t.tensor([[0,1], [4,5], [1,2]]) # observe the shape (3,2)\n",
        "a.matmul(b)"
      ],
      "execution_count": 32,
      "outputs": [
        {
          "output_type": "execute_result",
          "data": {
            "text/plain": [
              "tensor([[11, 17],\n",
              "        [26, 41]])"
            ]
          },
          "metadata": {},
          "execution_count": 32
        }
      ]
    },
    {
      "cell_type": "markdown",
      "metadata": {
        "id": "mhiDt_7uWjDb"
      },
      "source": [
        "**Task 10**"
      ]
    },
    {
      "cell_type": "code",
      "metadata": {
        "id": "9eCkFwcpWjPk",
        "colab": {
          "base_uri": "https://localhost:8080/"
        },
        "outputId": "16abfa25-4439-4fa9-85d5-d9cdb73e08a1"
      },
      "source": [
        "# create two tensors like we did above and multiply them using matmul\n",
        "c = t.tensor([[2,3], [4,5], [8,3]]) # observe the shape (3,2)\n",
        "d = t.tensor([[0,1,5], [4,5,6]]) # observe the shape (2,3)\n",
        "print(c)\n",
        "print(d)"
      ],
      "execution_count": 34,
      "outputs": [
        {
          "output_type": "stream",
          "name": "stdout",
          "text": [
            "tensor([[2, 3],\n",
            "        [4, 5],\n",
            "        [8, 3]])\n",
            "tensor([[0, 1, 5],\n",
            "        [4, 5, 6]])\n"
          ]
        }
      ]
    },
    {
      "cell_type": "code",
      "source": [
        "c.matmul(d)"
      ],
      "metadata": {
        "colab": {
          "base_uri": "https://localhost:8080/"
        },
        "id": "zSzcmV7nsXSy",
        "outputId": "a5a2362e-ffdc-48cc-bfd3-97d1ae82f921"
      },
      "execution_count": 35,
      "outputs": [
        {
          "output_type": "execute_result",
          "data": {
            "text/plain": [
              "tensor([[12, 17, 28],\n",
              "        [20, 29, 50],\n",
              "        [12, 23, 58]])"
            ]
          },
          "metadata": {},
          "execution_count": 35
        }
      ]
    },
    {
      "cell_type": "code",
      "metadata": {
        "id": "LBr-fo9oiFVg"
      },
      "source": [
        "# check it's documentation\n",
        "? t.linalg.matrix_power"
      ],
      "execution_count": 36,
      "outputs": []
    },
    {
      "cell_type": "code",
      "metadata": {
        "colab": {
          "base_uri": "https://localhost:8080/"
        },
        "id": "5tA0ptdviiEk",
        "outputId": "3fb23477-6fee-4ad0-f840-150146e65eb7"
      },
      "source": [
        "# To compute nth power of a square matrix\n",
        "sq_matrix = t.ones((2,2))\n",
        "print(\"sq matrix: \", sq_matrix)\n",
        "t.linalg.matrix_power(sq_matrix, 3)"
      ],
      "execution_count": 37,
      "outputs": [
        {
          "output_type": "stream",
          "name": "stdout",
          "text": [
            "sq matrix:  tensor([[1., 1.],\n",
            "        [1., 1.]])\n"
          ]
        },
        {
          "output_type": "execute_result",
          "data": {
            "text/plain": [
              "tensor([[4., 4.],\n",
              "        [4., 4.]])"
            ]
          },
          "metadata": {},
          "execution_count": 37
        }
      ]
    },
    {
      "cell_type": "markdown",
      "metadata": {
        "id": "hh2rEztC9wHE"
      },
      "source": [
        "**Tensor Operations and How to do Gradients**"
      ]
    },
    {
      "cell_type": "code",
      "metadata": {
        "colab": {
          "base_uri": "https://localhost:8080/"
        },
        "id": "5qr3yj7A9noj",
        "outputId": "c43f6c69-9ee2-484d-d0a6-43596b0858f4"
      },
      "source": [
        "# Create tensors.\n",
        "x = t.tensor(7.)\n",
        "w = t.tensor(4., requires_grad=True)\n",
        "b = t.tensor(3., requires_grad=True)\n",
        "x, w, b"
      ],
      "execution_count": 38,
      "outputs": [
        {
          "output_type": "execute_result",
          "data": {
            "text/plain": [
              "(tensor(7.), tensor(4., requires_grad=True), tensor(3., requires_grad=True))"
            ]
          },
          "metadata": {},
          "execution_count": 38
        }
      ]
    },
    {
      "cell_type": "code",
      "metadata": {
        "colab": {
          "base_uri": "https://localhost:8080/"
        },
        "id": "zpHnQIcn-OfI",
        "outputId": "b69385a8-d24f-45ba-f9c9-d390249651ee"
      },
      "source": [
        "# Making the equation by arithmetic operation\n",
        "y = w * x + b\n",
        "y"
      ],
      "execution_count": 39,
      "outputs": [
        {
          "output_type": "execute_result",
          "data": {
            "text/plain": [
              "tensor(31., grad_fn=<AddBackward0>)"
            ]
          },
          "metadata": {},
          "execution_count": 39
        }
      ]
    },
    {
      "cell_type": "code",
      "metadata": {
        "id": "Zra92KNi_Un3"
      },
      "source": [
        "# Computing derivatives\n",
        "y.backward()"
      ],
      "execution_count": 40,
      "outputs": []
    },
    {
      "cell_type": "code",
      "metadata": {
        "colab": {
          "base_uri": "https://localhost:8080/"
        },
        "id": "uVbuErRw_oOT",
        "outputId": "d8b7d281-f30c-4aa1-c43e-106b0944d3aa"
      },
      "source": [
        "# Display gradients\n",
        "print('dy/dx:', x.grad)\n",
        "print('dy/dw:', w.grad)\n",
        "print('dy/db:', b.grad)"
      ],
      "execution_count": 41,
      "outputs": [
        {
          "output_type": "stream",
          "name": "stdout",
          "text": [
            "dy/dx: None\n",
            "dy/dw: tensor(7.)\n",
            "dy/db: tensor(1.)\n"
          ]
        }
      ]
    },
    {
      "cell_type": "markdown",
      "metadata": {
        "id": "7jnqoQ54XtbU"
      },
      "source": [
        "As expected, `dy/dw` has the same value as `x`, i.e., `7`, and `dy/db` has the value `1`. Note that `x.grad` is `None` because `x` doesn't have `requires_grad` set to `True`.\n",
        "\n",
        "The \"grad\" in `w.grad` is short for _gradient_, which is another term for derivative. The term _gradient_ is primarily used while dealing with vectors and matrices."
      ]
    },
    {
      "cell_type": "markdown",
      "metadata": {
        "id": "0tEzio1iYUi4"
      },
      "source": [
        "**Task 11**"
      ]
    },
    {
      "cell_type": "code",
      "metadata": {
        "id": "CeelhMquYXkb",
        "colab": {
          "base_uri": "https://localhost:8080/"
        },
        "outputId": "d184ec10-f576-4038-de22-d5d10ed22576"
      },
      "source": [
        "# create 3 tensors x,w,b of your choice and then compute y=w*x + b. After defining y, compute gradients like we did in previous steps.\n",
        "# observe all the steps of tensor operations and gradients. Look into the documentation of tensor if needed.\n",
        "x = t.tensor(8.)\n",
        "w = t.tensor(5., requires_grad=True)\n",
        "b = t.tensor(6., requires_grad=True)\n",
        "x, w, b"
      ],
      "execution_count": 42,
      "outputs": [
        {
          "output_type": "execute_result",
          "data": {
            "text/plain": [
              "(tensor(8.), tensor(5., requires_grad=True), tensor(6., requires_grad=True))"
            ]
          },
          "metadata": {},
          "execution_count": 42
        }
      ]
    },
    {
      "cell_type": "code",
      "source": [
        "y = w*x + b\n",
        "y"
      ],
      "metadata": {
        "colab": {
          "base_uri": "https://localhost:8080/"
        },
        "id": "Bfnq0qontMNV",
        "outputId": "af86e815-1598-495a-8d4a-e5a69cda5270"
      },
      "execution_count": 43,
      "outputs": [
        {
          "output_type": "execute_result",
          "data": {
            "text/plain": [
              "tensor(46., grad_fn=<AddBackward0>)"
            ]
          },
          "metadata": {},
          "execution_count": 43
        }
      ]
    },
    {
      "cell_type": "code",
      "source": [
        "y.backward()"
      ],
      "metadata": {
        "id": "aUA9ObPltMQL"
      },
      "execution_count": 44,
      "outputs": []
    },
    {
      "cell_type": "code",
      "source": [
        "# Display gradients\n",
        "print('dy/dx:', x.grad)\n",
        "print('dy/dw:', w.grad)\n",
        "print('dy/db:', b.grad)"
      ],
      "metadata": {
        "colab": {
          "base_uri": "https://localhost:8080/"
        },
        "id": "Y2xtEo3mtUi8",
        "outputId": "57fb7532-b3ef-43d4-dcf7-aa1ef27f4e61"
      },
      "execution_count": 45,
      "outputs": [
        {
          "output_type": "stream",
          "name": "stdout",
          "text": [
            "dy/dx: None\n",
            "dy/dw: tensor(8.)\n",
            "dy/db: tensor(1.)\n"
          ]
        }
      ]
    },
    {
      "cell_type": "markdown",
      "metadata": {
        "id": "igQ6jkGeGVt5"
      },
      "source": [
        "**Task 12**\n",
        "\n",
        "Understand the whole Linear Regression From Scratch in next section. Then implement the same by taking input as area of the house and output as price of the house. You can take some random inputs of your own choice just like we did."
      ]
    },
    {
      "cell_type": "markdown",
      "metadata": {
        "id": "Z-az-tKzpjsV"
      },
      "source": [
        "**Linear Regression From Scratch**\n",
        "\n"
      ]
    },
    {
      "cell_type": "markdown",
      "metadata": {
        "id": "MmD3erUL4APO"
      },
      "source": [
        "In a linear regression model, each target variable is estimated to be a weighted sum of the input variables, offset by some constant, known as a bias :\n",
        "\n",
        "```\n",
        "percent  = w11 * maths + w12 * physics + w13 * chemistry + b1\n",
        "\n",
        "```\n",
        "\n",
        "![linear-regression-graph](https://i.stack.imgur.com/O5036.png)"
      ]
    },
    {
      "cell_type": "code",
      "metadata": {
        "id": "jJHNB0iapap5"
      },
      "source": [
        "# Here i'm taking marks of maths, physics, chemistry as input and i'm creating an array of it\n",
        "marks = np.array([[60, 70, 75],\n",
        "                  [70, 75, 80],\n",
        "                  [70, 72, 77],\n",
        "                  [90, 91, 95],\n",
        "                  [95, 95, 99],\n",
        "                  [50, 60, 65]], dtype='float32')\n",
        "\n",
        "# target is percentage which a person will get\n",
        "percent = np.array([68.3, 75.0, 76.3, 92.0, 96.3, 58.3], dtype='float32')"
      ],
      "execution_count": 46,
      "outputs": []
    },
    {
      "cell_type": "code",
      "metadata": {
        "id": "CfCHK17hpasI",
        "colab": {
          "base_uri": "https://localhost:8080/"
        },
        "outputId": "84b8174a-50e7-423b-8ee2-96a8c28ca59f"
      },
      "source": [
        "# converting array into tensor\n",
        "marks = t.from_numpy(marks)\n",
        "percent = t.from_numpy(percent)\n",
        "\n",
        "# printing marks and percentage both\n",
        "print(marks)\n",
        "print(percent)"
      ],
      "execution_count": 47,
      "outputs": [
        {
          "output_type": "stream",
          "name": "stdout",
          "text": [
            "tensor([[60., 70., 75.],\n",
            "        [70., 75., 80.],\n",
            "        [70., 72., 77.],\n",
            "        [90., 91., 95.],\n",
            "        [95., 95., 99.],\n",
            "        [50., 60., 65.]])\n",
            "tensor([68.3000, 75.0000, 76.3000, 92.0000, 96.3000, 58.3000])\n"
          ]
        }
      ]
    },
    {
      "cell_type": "markdown",
      "metadata": {
        "id": "lOGc9yEj7mM-"
      },
      "source": [
        "The weights and biases (w11, w12,... w23, b1 & b2) can also be represented as matrices, initialized as random values. The first row of w and the first element of b are used to predict the first target variable which is percent.\n",
        "\n",
        "Notice, our input is having 3 features, and output is 1, so our weight will be (1,3) shape and bias will be 1."
      ]
    },
    {
      "cell_type": "code",
      "metadata": {
        "id": "YLLF7R6tpauw",
        "colab": {
          "base_uri": "https://localhost:8080/"
        },
        "outputId": "a8116ef7-a967-400c-fd4c-51fabf11f266"
      },
      "source": [
        "# creating weights and biases using randn function\n",
        "marks_wt = t.randn(1, 3, requires_grad=True)\n",
        "marks_bias = t.randn(1, requires_grad=True)\n",
        "print(marks_bias)\n",
        "print(marks_wt)"
      ],
      "execution_count": 49,
      "outputs": [
        {
          "output_type": "stream",
          "name": "stdout",
          "text": [
            "tensor([0.0031], requires_grad=True)\n",
            "tensor([[ 0.2833, -0.3065,  0.8854]], requires_grad=True)\n"
          ]
        }
      ]
    },
    {
      "cell_type": "code",
      "metadata": {
        "id": "Qugl5wPcpaxl"
      },
      "source": [
        "# creating the model\n",
        "#  @ represents matrix multiplication in PyTorch, and the .t method returns the transpose of a tensor.\n",
        "def marks_model(x):\n",
        "  return x @ marks_wt.t() + marks_bias"
      ],
      "execution_count": 50,
      "outputs": []
    },
    {
      "cell_type": "code",
      "metadata": {
        "id": "wykz91mvqR1y",
        "colab": {
          "base_uri": "https://localhost:8080/"
        },
        "outputId": "64d9efd5-fcbc-4e28-90b2-31472a0756f1"
      },
      "source": [
        "# Generate predictions\n",
        "percent_pred = marks_model(marks)\n",
        "print(percent_pred)"
      ],
      "execution_count": 51,
      "outputs": [
        {
          "output_type": "stream",
          "name": "stdout",
          "text": [
            "tensor([[61.9494],\n",
            "        [67.6768],\n",
            "        [65.9402],\n",
            "        [81.7194],\n",
            "        [85.4514],\n",
            "        [53.3276]], grad_fn=<AddBackward0>)\n"
          ]
        }
      ]
    },
    {
      "cell_type": "code",
      "metadata": {
        "id": "w38jLYZiqR4j",
        "colab": {
          "base_uri": "https://localhost:8080/"
        },
        "outputId": "65379375-5100-4a7b-d15c-d65dca1040a3"
      },
      "source": [
        "# Compare with percent\n",
        "print(percent)"
      ],
      "execution_count": 52,
      "outputs": [
        {
          "output_type": "stream",
          "name": "stdout",
          "text": [
            "tensor([68.3000, 75.0000, 76.3000, 92.0000, 96.3000, 58.3000])\n"
          ]
        }
      ]
    },
    {
      "cell_type": "markdown",
      "metadata": {
        "id": "82LLmuB8qfeW"
      },
      "source": [
        "You can see a big difference between our model's predictions and the actual targets because we've initialized our model with random weights and biases. Obviously, we can't expect a randomly initialized model to just work.\n"
      ]
    },
    {
      "cell_type": "markdown",
      "metadata": {
        "id": "rQ-WJN4x9qAm"
      },
      "source": [
        "## Loss function\n",
        "\n",
        "How to define a loss function ?\n",
        "\n",
        "\n",
        "* Calculate the difference between the two matrices (`marks` and `percent`).\n",
        "* Square all elements of the difference matrix to remove negative values.\n",
        "* Calculate the average of the elements in the resulting matrix.\n",
        "\n",
        "You will get in the end,  **mean squared error** (MSE)."
      ]
    },
    {
      "cell_type": "code",
      "metadata": {
        "id": "aR5Soo8kqZ2e"
      },
      "source": [
        "# t.sum returns the sum of all the elements in a tensor.\n",
        "# The .numel method of a tensor returns the number of elements in a tensor.\n",
        "# MSE loss\n",
        "def mse(t1, t2):\n",
        "    diff = t1 - t2\n",
        "    return t.sum(diff * diff) / diff.numel()"
      ],
      "execution_count": 53,
      "outputs": []
    },
    {
      "cell_type": "code",
      "metadata": {
        "id": "6Kzx3d5tqZ5Q",
        "colab": {
          "base_uri": "https://localhost:8080/"
        },
        "outputId": "320e12d0-a734-468e-f476-d107a8223b03"
      },
      "source": [
        "# Let's check the loss\n",
        "percent_loss = mse(percent_pred, percent)\n",
        "print(percent_loss)"
      ],
      "execution_count": 54,
      "outputs": [
        {
          "output_type": "stream",
          "name": "stdout",
          "text": [
            "tensor(363.5859, grad_fn=<DivBackward0>)\n"
          ]
        }
      ]
    },
    {
      "cell_type": "markdown",
      "metadata": {
        "id": "q15ME5KyrVsz"
      },
      "source": [
        "Here’s how we can interpret the result: On average, each element in the prediction differs from the actual target by the square root of the loss."
      ]
    },
    {
      "cell_type": "markdown",
      "metadata": {
        "id": "lcRJQNP1rVz0"
      },
      "source": [
        "\n",
        "\n",
        "```\n",
        "# This is formatted as code\n",
        "```\n",
        "\n",
        "## Compute gradients\n",
        "\n",
        "With PyTorch, we can automatically compute the gradient or derivative of the loss w.r.t. to the weights and biases because they have requires_grad set to True. We'll see how this is useful in just a moment."
      ]
    },
    {
      "cell_type": "code",
      "metadata": {
        "id": "T4a_otlsrYFw"
      },
      "source": [
        "# Compute gradients\n",
        "percent_loss.backward()"
      ],
      "execution_count": 55,
      "outputs": []
    },
    {
      "cell_type": "code",
      "metadata": {
        "id": "4EKbOsqOrfl0",
        "colab": {
          "base_uri": "https://localhost:8080/"
        },
        "outputId": "c881de71-e0e8-4ab2-c587-ddf78a01b5d0"
      },
      "source": [
        "# check weights and it's gradient\n",
        "print(marks_wt)\n",
        "print(marks_wt.grad)"
      ],
      "execution_count": 56,
      "outputs": [
        {
          "output_type": "stream",
          "name": "stdout",
          "text": [
            "tensor([[ 0.2833, -0.3065,  0.8854]], requires_grad=True)\n",
            "tensor([[ -863.4450, -1020.3940, -1107.8762]])\n"
          ]
        }
      ]
    },
    {
      "cell_type": "markdown",
      "metadata": {
        "id": "T-6C8NdQ_0If"
      },
      "source": [
        "## How to adjust weights and biases to reduce the loss?\n",
        "\n",
        "If a gradient element is **positive**:\n",
        "\n",
        "* **increasing** the weight element's value slightly will **increase** the loss, and will go towards local maxima.\n",
        "* **decreasing** the weight element's value slightly will **decrease** the loss and will go towards local minima.\n",
        "\n",
        "![postive-gradient](https://i.imgur.com/WLzJ4xP.png)\n",
        "\n",
        "If a gradient element is **negative**:\n",
        "\n",
        "\n",
        "* **increasing** the weight element's value slightly will **decrease** the loss, will go towards local minima.\n",
        "* **decreasing** the weight element's value slightly will **increase** the loss, will go towards local maxima.\n",
        "\n",
        "![negative=gradient](https://i.imgur.com/dvG2fxU.png)\n",
        "\n",
        "In 3-D, local minima and global minima will look like this:\n",
        "![3-D=gradient](https://blog.paperspace.com/content/images/2018/05/challenges-1.png)\n"
      ]
    },
    {
      "cell_type": "code",
      "metadata": {
        "id": "pnDoGCB7rfoj"
      },
      "source": [
        "# We can subtract from each weight element a small quantity proportional to the derivative of the loss w.r.t. that element to reduce the loss slightly.\n",
        "with t.no_grad():\n",
        "\n",
        "    marks_wt -= marks_wt.grad * 1e-5\n",
        "    marks_bias -= marks_bias.grad * 1e-5\n",
        "    marks_wt.grad.zero_() # note this step of resetting the gradient to zero\n",
        "    marks_bias.grad.zero_() # We need to do this because PyTorch accumulates gradients, which may lead to unexpected results."
      ],
      "execution_count": 57,
      "outputs": []
    },
    {
      "cell_type": "markdown",
      "metadata": {
        "id": "XQtgueLAr_Mp"
      },
      "source": [
        "Here 1e-5 is the learning rate.\n",
        "We multiply the gradients with a very small number (10^-5 in this case) to ensure that we don't modify the weights by a very large amount. We want to take a small step in the downhill direction of the gradient, not a giant leap. This number is called the learning rate of the algorithm.\n",
        "\n",
        "We use torch.no_grad to indicate to PyTorch that we shouldn't track, calculate, or modify gradients while updating the weights and biases."
      ]
    },
    {
      "cell_type": "code",
      "metadata": {
        "id": "J6rN580bsAc9",
        "colab": {
          "base_uri": "https://localhost:8080/"
        },
        "outputId": "57897d12-1340-4eb7-eb88-d550e9b20b93"
      },
      "source": [
        "# Let's verify that the loss is actually lower\n",
        "percent_pred = marks_model(marks)\n",
        "percent_loss = mse(percent_pred, percent)\n",
        "print(percent_loss)"
      ],
      "execution_count": 58,
      "outputs": [
        {
          "output_type": "stream",
          "name": "stdout",
          "text": [
            "tensor(338.9765, grad_fn=<DivBackward0>)\n"
          ]
        }
      ]
    },
    {
      "cell_type": "markdown",
      "metadata": {
        "id": "OlyKOiDHsJjh"
      },
      "source": [
        "Before we proceed, we reset the gradients to zero by invoking the .zero_() method. We need to do this because PyTorch accumulates gradients. Otherwise, the next time we invoke .backward on the loss, the new gradient values are added to the existing gradients, which may lead to unexpected results."
      ]
    },
    {
      "cell_type": "code",
      "metadata": {
        "id": "3WFmmDK8sII6",
        "colab": {
          "base_uri": "https://localhost:8080/"
        },
        "outputId": "ae3c4b67-843d-4e62-8ef8-37b744cace8c"
      },
      "source": [
        "# You can check if gradients are set to zero or not\n",
        "print(marks_wt.grad)\n",
        "print(marks_bias.grad)"
      ],
      "execution_count": 59,
      "outputs": [
        {
          "output_type": "stream",
          "name": "stdout",
          "text": [
            "tensor([[0., 0., 0.]])\n",
            "tensor([0.])\n"
          ]
        }
      ]
    },
    {
      "cell_type": "markdown",
      "metadata": {
        "id": "tjTgkqgLbr0S"
      },
      "source": [
        "## Training the model with these steps:\n",
        "\n",
        "\n",
        "1) Generating predictions\n",
        "\n",
        "2) Calculating the loss\n",
        "\n",
        "3) Compute gradients w.r.t the weights and biases\n",
        "\n",
        "4) Adjust the weights by subtracting a small quantity proportional to the gradient\n",
        "\n",
        "5) Reset the gradients to zero"
      ]
    },
    {
      "cell_type": "code",
      "metadata": {
        "id": "OVGxZBpIbuLa",
        "colab": {
          "base_uri": "https://localhost:8080/"
        },
        "outputId": "08bd1aa3-4608-4993-901c-37e623940396"
      },
      "source": [
        "# Generate predictions\n",
        "percent_pred = marks_model(marks)\n",
        "print(percent_pred)"
      ],
      "execution_count": 60,
      "outputs": [
        {
          "output_type": "stream",
          "name": "stdout",
          "text": [
            "tensor([[64.0128],\n",
            "        [69.9330],\n",
            "        [68.1325],\n",
            "        [84.4777],\n",
            "        [88.3381],\n",
            "        [55.0918]], grad_fn=<AddBackward0>)\n"
          ]
        }
      ]
    },
    {
      "cell_type": "code",
      "metadata": {
        "id": "aU5RU5Y1cWwn",
        "colab": {
          "base_uri": "https://localhost:8080/"
        },
        "outputId": "0e8bbaea-49c2-418f-888d-88fb9a148867"
      },
      "source": [
        "# Calculate the loss\n",
        "percent_loss = mse(percent_pred, percent)\n",
        "print(percent_loss)"
      ],
      "execution_count": 61,
      "outputs": [
        {
          "output_type": "stream",
          "name": "stdout",
          "text": [
            "tensor(338.9765, grad_fn=<DivBackward0>)\n"
          ]
        }
      ]
    },
    {
      "cell_type": "code",
      "metadata": {
        "id": "cdotRts-ckPA",
        "colab": {
          "base_uri": "https://localhost:8080/"
        },
        "outputId": "d1327b25-280c-47e5-8e7e-4c02f205b02a"
      },
      "source": [
        "# Compute gradients and print gradients of weight and bias\n",
        "percent_loss.backward()\n",
        "print(marks_wt.grad)\n",
        "print(marks_bias.grad)"
      ],
      "execution_count": 62,
      "outputs": [
        {
          "output_type": "stream",
          "name": "stdout",
          "text": [
            "tensor([[-514.8153, -652.8641, -719.0262]])\n",
            "tensor([-12.0714])\n"
          ]
        }
      ]
    },
    {
      "cell_type": "markdown",
      "metadata": {
        "id": "25Hbxg-sdEG7"
      },
      "source": [
        "Let's update the weights and biases using the gradients computed above."
      ]
    },
    {
      "cell_type": "code",
      "metadata": {
        "id": "3I6kOI4ac4VC"
      },
      "source": [
        "# Adjust weights & reset gradients\n",
        "with t.no_grad():\n",
        "    marks_wt -= marks_wt.grad * 1e-5\n",
        "    marks_bias -= marks_bias.grad * 1e-5\n",
        "    marks_wt.grad.zero_()\n",
        "    marks_bias.grad.zero_()"
      ],
      "execution_count": 63,
      "outputs": []
    },
    {
      "cell_type": "code",
      "metadata": {
        "id": "Bza9Se6tdX5L",
        "colab": {
          "base_uri": "https://localhost:8080/"
        },
        "outputId": "bf1224bd-8a26-417d-d252-b6baaad18e8a"
      },
      "source": [
        "# looking at new weight and bias\n",
        "print(marks_wt)\n",
        "print(marks_bias)"
      ],
      "execution_count": 64,
      "outputs": [
        {
          "output_type": "stream",
          "name": "stdout",
          "text": [
            "tensor([[ 0.2971, -0.2898,  0.9037]], requires_grad=True)\n",
            "tensor([0.0034], requires_grad=True)\n"
          ]
        }
      ]
    },
    {
      "cell_type": "markdown",
      "metadata": {
        "id": "ZNhR3_hvdLvi"
      },
      "source": [
        "With the new weights and biases, the model should have a lower loss"
      ]
    },
    {
      "cell_type": "code",
      "metadata": {
        "id": "rJUdUR_gdKs8",
        "colab": {
          "base_uri": "https://localhost:8080/"
        },
        "outputId": "3267826f-c621-4b00-804f-5b4ca90fe0e8"
      },
      "source": [
        "# Calculate loss\n",
        "preds = marks_model(marks)\n",
        "loss = mse(preds, percent)\n",
        "print(loss)"
      ],
      "execution_count": 65,
      "outputs": [
        {
          "output_type": "stream",
          "name": "stdout",
          "text": [
            "tensor(329.0998, grad_fn=<DivBackward0>)\n"
          ]
        }
      ]
    },
    {
      "cell_type": "markdown",
      "metadata": {
        "id": "8zOsPU2-dhZD"
      },
      "source": [
        "We have achieved a little reduction in the loss merely by adjusting the weights and biases slightly using gradient descent."
      ]
    },
    {
      "cell_type": "markdown",
      "metadata": {
        "id": "vD6E_L5Fdupd"
      },
      "source": [
        "To reduce the loss further, we can repeat the process of adjusting the weights and biases using the gradients multiple times. Each iteration is called an epoch. Let's train the model for 50 epochs."
      ]
    },
    {
      "cell_type": "code",
      "metadata": {
        "id": "94Urmas6dnBs"
      },
      "source": [
        "# training for multiple epochs\n",
        "\n",
        "for i in range(150):\n",
        "  percent_pred = marks_model(marks)\n",
        "  percent_loss = mse(percent_pred, percent)\n",
        "  percent_loss.backward()\n",
        "  with t.no_grad():\n",
        "    marks_wt -= marks_wt.grad * 1e-5\n",
        "    marks_bias -= marks_bias.grad * 1e-5\n",
        "    marks_wt.grad.zero_()\n",
        "    marks_bias.grad.zero_()"
      ],
      "execution_count": 66,
      "outputs": []
    },
    {
      "cell_type": "code",
      "metadata": {
        "id": "M4NbSRBud3jc",
        "colab": {
          "base_uri": "https://localhost:8080/"
        },
        "outputId": "5295af17-8ee2-478b-f70d-44d77966d8c8"
      },
      "source": [
        "# calculate loss\n",
        "\n",
        "percent_pred = marks_model(marks)\n",
        "percent_loss = mse(percent_pred, percent)\n",
        "print(percent_loss)"
      ],
      "execution_count": 67,
      "outputs": [
        {
          "output_type": "stream",
          "name": "stdout",
          "text": [
            "tensor(308.2213, grad_fn=<DivBackward0>)\n"
          ]
        }
      ]
    },
    {
      "cell_type": "markdown",
      "metadata": {
        "id": "wj_Rlutdd9k5"
      },
      "source": [
        "The loss is now much lower than its initial value. Let's look at the model's predictions and compare them with the targets."
      ]
    },
    {
      "cell_type": "code",
      "metadata": {
        "id": "mxOqoxd7eCE2",
        "colab": {
          "base_uri": "https://localhost:8080/"
        },
        "outputId": "41d7f27c-1822-4d3f-c3ec-54896b997fec"
      },
      "source": [
        "# result is good and we can make it better with more epochs\n",
        "print(percent_pred)\n",
        "print(percent)"
      ],
      "execution_count": 68,
      "outputs": [
        {
          "output_type": "stream",
          "name": "stdout",
          "text": [
            "tensor([[68.3916],\n",
            "        [73.9884],\n",
            "        [71.7503],\n",
            "        [88.6667],\n",
            "        [92.5842],\n",
            "        [59.0645]], grad_fn=<AddBackward0>)\n",
            "tensor([68.3000, 75.0000, 76.3000, 92.0000, 96.3000, 58.3000])\n"
          ]
        }
      ]
    },
    {
      "cell_type": "markdown",
      "metadata": {
        "id": "-9H7Cr6mSaGa"
      },
      "source": [
        "**FEEDBACK FORM**\n",
        "\n",
        "Please help us to improve by filling this form.\n",
        "https://forms.zohopublic.in/cloudyml/form/CloudyMLDeepLearningFeedbackForm/formperma/VCFbldnXAnbcgAIl0lWv2blgHdSldheO4RfktMdgK7s"
      ]
    },
    {
      "cell_type": "markdown",
      "metadata": {
        "id": "jLhxz4T2HUzF"
      },
      "source": [
        "![](https://images.freeimages.com/images/large-previews/737/track-finish-1442273.jpg)"
      ]
    }
  ]
}